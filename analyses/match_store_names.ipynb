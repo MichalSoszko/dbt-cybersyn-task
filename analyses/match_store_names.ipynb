{
 "cells": [
  {
   "cell_type": "code",
   "execution_count": null,
   "metadata": {},
   "outputs": [],
   "source": [
    "from google.cloud import bigquery\n",
    "import pandas as pd\n",
    "\n",
    "# Biquery Client\n",
    "client = bigquery.Client(project='cybersyn-417809')\n",
    "\n",
    "# SQL\n",
    "sql = \"\"\"\n",
    "SELECT distinct store_name FROM `cybersyn-417809.msoszko_dev.stg_dim_stores`\n",
    "\"\"\"\n",
    "\n",
    "# Execute query\n",
    "query_job = client.query(sql)\n",
    "\n",
    "# Write as data frame\n",
    "df = pd.DataFrame([row.values() for row in query_job.result()], columns=[\"store_name\"])\n",
    "\n",
    "# deposit as csv\n",
    "df.to_csv('store_names_list.csv', index=False)\n",
    "df"
   ]
  },
  {
   "cell_type": "code",
   "execution_count": 7,
   "metadata": {},
   "outputs": [],
   "source": [
    "import openai\n",
    "import json\n",
    "\n",
    "# API Key\n",
    "#openai.api_key = 'XXXXXX'\n",
    "\n",
    "# Stores list\n",
    "shop_names = df['store_name'].tolist()\n",
    "\n",
    "# hardcoded split for shop names (enforced by openai api for performance reasons)\n",
    "shop_names_list = [\n",
    "    shop_names[0:100],\n",
    "    shop_names[100:200],\n",
    "    shop_names[200:300],\n",
    "    shop_names[300:400],\n",
    "    shop_names[400:500],\n",
    "    shop_names[500:600],\n",
    "    shop_names[600:700],\n",
    "    shop_names[700:800],\n",
    "    shop_names[800:900],\n",
    "    shop_names[900:1000],\n",
    "    shop_names[1000:1100],\n",
    "    shop_names[1100:1200],\n",
    "    shop_names[1200:1300],\n",
    "    shop_names[1300:1400],\n",
    "    shop_names[1400:1500],\n",
    "    shop_names[1500:1600],\n",
    "    shop_names[1600:1700],\n",
    "    shop_names[1700:1800],\n",
    "    shop_names[1800:1900],\n",
    "    shop_names[1900:2000],\n",
    "    shop_names[2000:2100],\n",
    "    shop_names[2100:2200],\n",
    "    shop_names[2200:2300]\n",
    "]\n",
    "\n",
    "# Variable for storing company names (brands)\n",
    "brand_names_list = []\n",
    "\n",
    "# Call OpenAI to process the list in search and categorize of possible company names (in PL)\n",
    "for idx, shop_names in enumerate(shop_names_list):\n",
    "    response = openai.chat.completions.create(\n",
    "        model=\"gpt-3.5-turbo\",\n",
    "        messages=[\n",
    "            {\"role\": \"user\", \n",
    "            \"content\": f\"\"\"Dla listy nazw sklepów: {shop_names} Wydedukuj nazwę marek tych sklepów. Sklepów jest dużo a nazwa marki jest zawsze częścią nazwy sklepu. Wynik zwróc w formacie JSON, gdzie mamy słownik: store_name: brand_name. DŁugość listy musi być zawsze identyczna jak liczba podanych nazw sklepów \"\"\"}\n",
    "        ]\n",
    "    )\n",
    "\n",
    "    # read the responseand store in brand_names var\n",
    "    brand_names = response.choices[0].message.content\n",
    "    # update list  of brands\n",
    "    brand_names_list.append(brand_names)"
   ]
  },
  {
   "cell_type": "code",
   "execution_count": 10,
   "metadata": {},
   "outputs": [],
   "source": [
    "# Convert GPT output to a list of strings\n",
    "df_to_csv = pd.DataFrame(brand_names_list)\n",
    "\n",
    "# Save the list as csv for further cleaning\n",
    "df_to_csv.to_csv('raw_list_from_GPT.csv', index=False)\n"
   ]
  }
 ],
 "metadata": {
  "kernelspec": {
   "display_name": "Python 3",
   "language": "python",
   "name": "python3"
  },
  "language_info": {
   "codemirror_mode": {
    "name": "ipython",
    "version": 3
   },
   "file_extension": ".py",
   "mimetype": "text/x-python",
   "name": "python",
   "nbconvert_exporter": "python",
   "pygments_lexer": "ipython3",
   "version": "3.8.3"
  }
 },
 "nbformat": 4,
 "nbformat_minor": 2
}
